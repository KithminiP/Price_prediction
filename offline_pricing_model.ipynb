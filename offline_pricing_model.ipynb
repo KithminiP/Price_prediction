{
  "nbformat": 4,
  "nbformat_minor": 0,
  "metadata": {
    "colab": {
      "provenance": [],
      "authorship_tag": "ABX9TyN2bQZ1an5Q4ToTt6nq6g6V",
      "include_colab_link": true
    },
    "kernelspec": {
      "name": "python3",
      "display_name": "Python 3"
    },
    "language_info": {
      "name": "python"
    }
  },
  "cells": [
    {
      "cell_type": "markdown",
      "metadata": {
        "id": "view-in-github",
        "colab_type": "text"
      },
      "source": [
        "<a href=\"https://colab.research.google.com/github/KithminiP/Price_prediction/blob/main/offline_pricing_model.ipynb\" target=\"_parent\"><img src=\"https://colab.research.google.com/assets/colab-badge.svg\" alt=\"Open In Colab\"/></a>"
      ]
    },
    {
      "cell_type": "code",
      "execution_count": 69,
      "metadata": {
        "id": "C1FYD_c0LwiI"
      },
      "outputs": [],
      "source": [
        "import os\n",
        "import pandas as pd\n",
        "import numpy as np\n",
        "import xgboost as xgb\n",
        "import matplotlib.pyplot as plt\n",
        "from sklearn.model_selection import train_test_split\n",
        "from sklearn.preprocessing import StandardScaler\n",
        "from sklearn.metrics import mean_absolute_error, r2_score\n",
        "import joblib\n",
        "from sklearn.model_selection import cross_val_score\n",
        "from sklearn.model_selection import GridSearchCV"
      ]
    },
    {
      "cell_type": "code",
      "source": [
        "# Paths to data CSVs\n",
        "customer_data_path = \"data/customer_data.csv\"\n",
        "claims_data_path   = \"data/claims_data.csv\"\n",
        "policy_data_path   = \"data/policy_data.csv\""
      ],
      "metadata": {
        "id": "44-0uaPHMocb"
      },
      "execution_count": 2,
      "outputs": []
    },
    {
      "cell_type": "code",
      "source": [
        "# Read CSV files\n",
        "customer_df = pd.read_csv(customer_data_path)\n",
        "claims_df   = pd.read_csv(claims_data_path)\n",
        "policy_df   = pd.read_csv(policy_data_path)"
      ],
      "metadata": {
        "id": "_AmQ8QgfMtOr"
      },
      "execution_count": 3,
      "outputs": []
    },
    {
      "cell_type": "code",
      "source": [
        "# Merge datasets on the common column (customer_id)\n",
        "data = customer_df.merge(claims_df, on=\"customer_id\").merge(policy_df, on=\"customer_id\")"
      ],
      "metadata": {
        "id": "m5nzXFb8Mucb"
      },
      "execution_count": 4,
      "outputs": []
    },
    {
      "cell_type": "code",
      "source": [
        "print(data.head())"
      ],
      "metadata": {
        "colab": {
          "base_uri": "https://localhost:8080/",
          "height": 0
        },
        "id": "j8I9hUjuOaFN",
        "outputId": "b9a91537-0b43-426b-c656-f6c814caed38"
      },
      "execution_count": 7,
      "outputs": [
        {
          "output_type": "stream",
          "name": "stdout",
          "text": [
            "   age  gender  driving_record  years_with_company  total_claims  \\\n",
            "0   56       1               0                  15             0   \n",
            "1   69       1               2                   3             0   \n",
            "2   46       0               0                   3             0   \n",
            "3   32       0               0                   7             0   \n",
            "4   60       0               1                   5             1   \n",
            "\n",
            "   policy_premium  claim_ratio  \n",
            "0      300.052451     0.000000  \n",
            "1      535.934088     0.000000  \n",
            "2      262.158275     0.000000  \n",
            "3      281.171467     0.000000  \n",
            "4      443.610339     0.166667  \n"
          ]
        }
      ]
    },
    {
      "cell_type": "code",
      "source": [
        "# Create a new feature: claim_ratio.\n",
        "# Adding 1 to 'years_with_company' to avoid division by zero.\n",
        "data[\"claim_ratio\"] = data[\"total_claims\"] / (data[\"years_with_company\"] + 1)"
      ],
      "metadata": {
        "id": "4qlYKqP1Mzdw"
      },
      "execution_count": 5,
      "outputs": []
    },
    {
      "cell_type": "code",
      "source": [
        "# Drop non-numeric or unnecessary columns\n",
        "# In this example, drop 'customer_id' because it is an identifier.\n",
        "data = data.drop(columns=[\"customer_id\"])"
      ],
      "metadata": {
        "id": "qcEz6vNwNQ2Z"
      },
      "execution_count": 6,
      "outputs": []
    },
    {
      "cell_type": "code",
      "source": [
        "# Define features (X) and target (y)\n",
        "X = data.drop(columns=[\"policy_premium\"])\n",
        "y = data[\"policy_premium\"]"
      ],
      "metadata": {
        "id": "QsedcAWvSSnN"
      },
      "execution_count": 8,
      "outputs": []
    },
    {
      "cell_type": "code",
      "source": [
        "# Standardize the features for better performance with many ML algorithms\n",
        "scaler = StandardScaler()\n",
        "X_scaled = scaler.fit_transform(X)"
      ],
      "metadata": {
        "id": "e5HodzEzSWuV"
      },
      "execution_count": 10,
      "outputs": []
    },
    {
      "cell_type": "code",
      "source": [
        "# Split into training and test sets for offline evaluation.\n",
        "X_train, X_test, y_train, y_test = train_test_split(X_scaled, y, test_size=0.2, random_state=42)"
      ],
      "metadata": {
        "id": "Vz3Y9y0jS4UT"
      },
      "execution_count": 12,
      "outputs": []
    },
    {
      "cell_type": "code",
      "source": [
        "#Train the Model\n",
        "#XGBoost for regression.\n",
        "model = xgb.XGBRegressor(objective=\"reg:squarederror\", n_estimators=100, learning_rate=0.1, random_state=42)\n",
        "model.fit(X_train, y_train);\n",
        "print(\"Model training complete.\")"
      ],
      "metadata": {
        "colab": {
          "base_uri": "https://localhost:8080/",
          "height": 0
        },
        "id": "ihw9YTUuTCvF",
        "outputId": "2e90890a-d930-48d6-a639-774562b7292a"
      },
      "execution_count": 15,
      "outputs": [
        {
          "output_type": "stream",
          "name": "stdout",
          "text": [
            "Model training complete.\n"
          ]
        }
      ]
    },
    {
      "cell_type": "code",
      "source": [
        "# Generate predictions on the test set\n",
        "y_pred = model.predict(X_test)"
      ],
      "metadata": {
        "id": "yo_kmOopT3As"
      },
      "execution_count": 16,
      "outputs": []
    },
    {
      "cell_type": "code",
      "source": [
        "# Calculate evaluation metrics\n",
        "mae = mean_absolute_error(y_test, y_pred)\n",
        "r2  = r2_score(y_test, y_pred)"
      ],
      "metadata": {
        "id": "hYzR5l1_T57V"
      },
      "execution_count": 17,
      "outputs": []
    },
    {
      "cell_type": "code",
      "source": [
        "print(\"Pricing Model Evaluation:\")\n",
        "print(f\"Mean Absolute Error: {mae:.2f}\")\n",
        "print(f\"R² Score: {r2:.2f}\")"
      ],
      "metadata": {
        "colab": {
          "base_uri": "https://localhost:8080/",
          "height": 0
        },
        "id": "kJTLho7yT_vF",
        "outputId": "e5af706b-3a05-4a6a-fffd-385e15e3a21d"
      },
      "execution_count": 19,
      "outputs": [
        {
          "output_type": "stream",
          "name": "stdout",
          "text": [
            "Pricing Model Evaluation:\n",
            "Mean Absolute Error: 16.65\n",
            "R² Score: 0.96\n"
          ]
        }
      ]
    },
    {
      "cell_type": "markdown",
      "source": [
        "Mean Absolute Error (MAE): 16.65\n",
        "\n",
        "This means that, on average, the model's predictions deviate from the actual insurance premiums by about 16.65 units. Depending on the scale of the premiums, this could be considered a very small error.\n",
        "\n",
        "R² Score: 0.96\n",
        "\n",
        "An R² score of 0.96 indicates that 96% of the variance in the insurance premium values is explained by the model. This suggests that the model has a very strong fit to the data.\n",
        "\n"
      ],
      "metadata": {
        "id": "FvgtjTYIV5lW"
      }
    },
    {
      "cell_type": "markdown",
      "source": [
        "Feature Importance Analysis"
      ],
      "metadata": {
        "id": "mD3CwN2NdRrT"
      }
    },
    {
      "cell_type": "code",
      "source": [
        "importances = model.feature_importances_\n",
        "feature_names = X.columns\n",
        "\n",
        "plt.barh(feature_names, importances)\n",
        "plt.xlabel(\"Feature Importance\")\n",
        "plt.title(\"Feature Importance in Pricing Model\")\n",
        "plt.show()"
      ],
      "metadata": {
        "colab": {
          "base_uri": "https://localhost:8080/",
          "height": 472
        },
        "id": "-6uRFMqRgjdE",
        "outputId": "efd71c23-c684-4f84-9aa8-ac23054af744"
      },
      "execution_count": 70,
      "outputs": [
        {
          "output_type": "display_data",
          "data": {
            "text/plain": [
              "<Figure size 640x480 with 1 Axes>"
            ],
            "image/png": "[encoded data removed]"
          },
          "metadata": {}
        }
      ]
    }
  ]
}